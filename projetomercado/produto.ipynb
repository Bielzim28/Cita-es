{
  "cells": [
    {
      "cell_type": "code",
      "execution_count": 5,
      "metadata": {
        "id": "97_F7nKdakkP"
      },
      "outputs": [
        {
          "name": "stdout",
          "output_type": "stream",
          "text": [
            "Produto criado com sucesso\n",
            "Produto criado com sucesso\n",
            "Produto criado com sucesso\n",
            "Produto criado com sucesso\n",
            "Produto criado com sucesso\n",
            "Produto criado com sucesso\n",
            "Produto criado com sucesso\n",
            "Produto criado com sucesso\n",
            "Padaria criada com sucesso\n",
            "Produto criado com sucesso\n",
            "Produto criado com sucesso\n",
            "Produto criado com sucesso\n",
            "Produto criado com sucesso\n",
            "Produto criado com sucesso\n",
            "Açougue criada com sucesso\n"
          ]
        }
      ],
      "source": [
        "class Produto:\n",
        "    def __init__(self, nome, preco, mercado):\n",
        "        self.nome = nome\n",
        "        self.preco = preco\n",
        "        self.mercado = mercado\n",
        "        print(\"Produto criado com sucesso\")\n",
        "\n",
        "produto1 = Produto(\"Maçã\", 2.50, \"Supermercado A\")\n",
        "produto2 = Produto(\"Banana\", 1.80, \"Feira\")\n",
        "produto3 = Produto(\"Leite\", 3.20, \"Supermercado B\")\n",
        "\n",
        "class Padaria(Produto):\n",
        "    def __init__(self, nome, preco, setor, temperatura, validade):\n",
        "        super().__init__(nome, preco, \"Padaria\")\n",
        "        self.setor = setor\n",
        "        self.temperatura = temperatura\n",
        "        self.validade = validade\n",
        "\n",
        "    def __str__(self):\n",
        "        return f\"Produto: {self.nome}\\nPreço: R${self.preco:.2f}\\nSetor: {self.setor}\\nTemperatura ideal: {self.temperatura}°C\\nValidade: {self.validade}\"\n",
        "\n",
        "if __name__ == \"__main__\":\n",
        "    produto1 = Padaria(\"Pão Francês\", 5.99, \"Padaria\", 25, \"18/06/2024\")\n",
        "    produto2 = Padaria(\"Bolo de Chocolate\", 30.00, \"Padaria\", 20, \"25/06/2024\")\n",
        "    produto3 = Padaria(\"Cupcake de Baunilha\", 7.50, \"Padaria\", 18, \"20/06/2024\")\n",
        "    produto4 = Padaria(\"Torta de Morango\", 40.00, \"Padaria\", 15, \"22/06/2024\")\n",
        "    produto5 = Padaria(\"Brigadeiro\", 2.00, \"Padaria\", 22, \"19/06/2024\")\n",
        "    print(\"Padaria criada com sucesso\")\n",
        "\n",
        "class Churrasco(Produto):\n",
        "    def __init__(self, nome, preco, setor, temperatura, validade):\n",
        "        super().__init__(nome, preco, \"Carnes\")\n",
        "        self.setor = setor\n",
        "        self.temperatura = temperatura\n",
        "        self.validade = validade\n",
        "\n",
        "    def __str__(self):\n",
        "        return f\"Churrasco: {self.nome}\\nPreço: R${self.preco:.2f}\\nSetor: {self.setor}\\nTemperatura: {self.temperatura}°C\\nValidade: {self.validade}\"\n",
        "\n",
        "if __name__ == \"__main__\":\n",
        "    churrasco1 = Churrasco(\"Picanha\", 50.0, \"Carnes\", 5, \"30/06/2024\")\n",
        "    churrasco2 = Churrasco(\"Alcatra\", 45.0, \"Carnes\", 4, \"28/06/2024\")\n",
        "    churrasco3 = Churrasco(\"Costela\", 55.0, \"Carnes\", 6, \"02/07/2024\")\n",
        "    churrasco4 = Churrasco(\"Frango\", 30.0, \"Aves\", 3, \"25/06/2024\")\n",
        "    churrasco5 = Churrasco(\"Linguiça\", 25.0, \"carnes\", 2, \"23/06/2024\")\n",
        "    print(\"Açougue criada com sucesso\")"
      ]
    }
  ],
  "metadata": {
    "colab": {
      "provenance": []
    },
    "kernelspec": {
      "display_name": "Python 3",
      "name": "python3"
    },
    "language_info": {
      "codemirror_mode": {
        "name": "ipython",
        "version": 3
      },
      "file_extension": ".py",
      "mimetype": "text/x-python",
      "name": "python",
      "nbconvert_exporter": "python",
      "pygments_lexer": "ipython3",
      "version": "3.12.4"
    }
  },
  "nbformat": 4,
  "nbformat_minor": 0
}
